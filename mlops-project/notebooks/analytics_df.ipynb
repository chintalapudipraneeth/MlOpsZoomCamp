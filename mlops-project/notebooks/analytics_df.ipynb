{
 "cells": [
  {
   "cell_type": "markdown",
   "id": "f7902f6c-052c-407d-99da-1b3f890d5a04",
   "metadata": {},
   "source": [
    "# Sera venenoso o no (hongos)\n",
    "\n",
    "Se tiene un dataset donde hay varios hongos, cada uno clasificado entre venenoso y no venenoso, se tiene que desarrollar un modelo que nos pueda ayudar a saber de que tipo es"
   ]
  },
  {
   "cell_type": "markdown",
   "id": "91649bf0-3a8b-4ec5-abba-0ece528058bd",
   "metadata": {},
   "source": [
    "## Analitica de datos\n",
    "\n",
    "**Importacion de librerias**"
   ]
  },
  {
   "cell_type": "code",
   "execution_count": null,
   "id": "cc9ca71e-b9c0-4251-91fc-4d8ab600dc18",
   "metadata": {},
   "outputs": [],
   "source": [
    "import numpy as np\n",
    "import pandas as pd\n",
    "import seaborn as sns\n",
    "import matplotlib.pyplot as plt\n",
    "from pandas_profiling import ProfileReport"
   ]
  },
  {
   "cell_type": "markdown",
   "id": "298af07c",
   "metadata": {},
   "source": [
    "**Se quitan los warnings del log**"
   ]
  },
  {
   "cell_type": "code",
   "execution_count": null,
   "id": "5773db59",
   "metadata": {},
   "outputs": [],
   "source": [
    "import warnings\n",
    "warnings.filterwarnings('ignore')"
   ]
  },
  {
   "cell_type": "markdown",
   "id": "4d270c14",
   "metadata": {},
   "source": [
    "**Lectura de datos**\n",
    "\n",
    "Se leen los dos archivos, el de pruebas y el entrenamiento, junto con los valores de pruebas.\n",
    "\n",
    "Se unen los datasets para analizarlos a ambos.\n",
    "\n",
    "Se borran el Id ya que no es una variable que se pueda usar."
   ]
  },
  {
   "cell_type": "code",
   "execution_count": null,
   "id": "1a1901c5",
   "metadata": {},
   "outputs": [],
   "source": [
    "FOLDER_PATH = '../data/raw/'\n",
    "\n",
    "df_train = pd.read_csv(f'{FOLDER_PATH}train.csv')\n",
    "df_test = pd.read_csv(f'{FOLDER_PATH}test.csv')\n",
    "df_class_test = pd.read_csv(f'{FOLDER_PATH}sample_submission.csv')\n",
    "df_class_test.replace(\n",
    "    {'Edibla': 'Edible', 'Poisonousa': 'Poisonous'}, inplace=True\n",
    ")\n",
    "df_test = df_test.merge(df_class_test, on='id')\n",
    "df = pd.concat([df_train, df_test]).sort_values('id')\n",
    "df.drop('id', inplace=True, errors='ignore', axis=1)\n",
    "df"
   ]
  },
  {
   "cell_type": "markdown",
   "id": "676c1123",
   "metadata": {},
   "source": [
    "**Se revisa que tipo de datos se tiene, se puede observar que todas son variables de tipo object**\n",
    "\n",
    "Muy probablemente sean variables categoricas"
   ]
  },
  {
   "cell_type": "code",
   "execution_count": null,
   "id": "41ef2078",
   "metadata": {},
   "outputs": [],
   "source": [
    "df.dtypes"
   ]
  },
  {
   "cell_type": "markdown",
   "id": "d781e51c",
   "metadata": {},
   "source": [
    "**Se describe el dataset para ver cuantos unicos se tienen**"
   ]
  },
  {
   "cell_type": "code",
   "execution_count": null,
   "id": "2ed19de8",
   "metadata": {},
   "outputs": [],
   "source": [
    "df.describe(include='all').T"
   ]
  },
  {
   "cell_type": "markdown",
   "id": "efb7ba38",
   "metadata": {},
   "source": [
    "Se revisan las correlaciones entre variables"
   ]
  },
  {
   "cell_type": "code",
   "execution_count": null,
   "id": "e9551afc",
   "metadata": {},
   "outputs": [],
   "source": [
    "corr = df.apply(\n",
    "    lambda x : pd.factorize(x)[0]).corr(method='pearson', min_periods=1\n",
    ")"
   ]
  },
  {
   "cell_type": "code",
   "execution_count": null,
   "id": "9f487bf3",
   "metadata": {},
   "outputs": [],
   "source": [
    "sns.set_theme(style=\"white\")\n",
    "\n",
    "# Generate a mask for the upper triangle\n",
    "mask = np.triu(np.ones_like(corr, dtype=bool))\n",
    "\n",
    "# Set up the matplotlib figure\n",
    "f, ax = plt.subplots(figsize=(18, 18))\n",
    "\n",
    "# Generate a custom diverging colormap\n",
    "cmap = sns.diverging_palette(230, 20, as_cmap=True)\n",
    "\n",
    "sns.heatmap(\n",
    "    corr, mask=mask, cmap=cmap, vmax=.3, center=0, square=True,\n",
    "    linewidths=.5, cbar_kws={\"shrink\": .5}, annot=True\n",
    ")\n",
    "plt.show()"
   ]
  },
  {
   "cell_type": "markdown",
   "id": "5bdeeaa9",
   "metadata": {},
   "source": [
    "Se modifican los valores en cadena \"None\" a NaN para borrarse en dado caso de que se tengan muchos"
   ]
  },
  {
   "cell_type": "code",
   "execution_count": null,
   "id": "89401818",
   "metadata": {},
   "outputs": [],
   "source": [
    "df = df.replace({\"None\": np.NaN})\n",
    "df = df.replace({\"?\": np.NaN})\n",
    "df.dropna(axis=1, inplace=True)\n",
    "df.columns.tolist()"
   ]
  },
  {
   "cell_type": "code",
   "execution_count": null,
   "id": "f1466e24",
   "metadata": {},
   "outputs": [],
   "source": [
    "df.head()"
   ]
  },
  {
   "cell_type": "markdown",
   "id": "3cba26b2",
   "metadata": {},
   "source": [
    "*Se obtienen las correlaciones, trate de buscar las mas altas, pero al entrenar los modelos el score era muy bajo*"
   ]
  },
  {
   "cell_type": "code",
   "execution_count": null,
   "id": "649aec62",
   "metadata": {},
   "outputs": [],
   "source": [
    "corr = df.apply(\n",
    "    lambda x : pd.factorize(x)[0]).corr(method='pearson', min_periods=1\n",
    ")\n",
    "colums_corr = corr[['class']][\n",
    "    (corr['class'] <= 0.50) & (corr['class'] >= -0.50)\n",
    "]\n",
    "colums_corr"
   ]
  },
  {
   "cell_type": "markdown",
   "id": "b0e1c559",
   "metadata": {},
   "source": [
    "Se obtienen los nombres de las columnas que se usaran"
   ]
  },
  {
   "cell_type": "code",
   "execution_count": null,
   "id": "f6d94dc7",
   "metadata": {},
   "outputs": [],
   "source": [
    "columns_to_use = colums_corr.index.tolist()\n",
    "columns_to_use"
   ]
  },
  {
   "cell_type": "markdown",
   "id": "bd42e085",
   "metadata": {},
   "source": [
    "Revisando todos los datos al parecer se tienen puras variables categoricas se tendran que transformar"
   ]
  },
  {
   "cell_type": "code",
   "execution_count": null,
   "id": "d7d58e42",
   "metadata": {},
   "outputs": [],
   "source": [
    "df_work = df[columns_to_use + [\"class\"]]\n",
    "df_work.head()"
   ]
  },
  {
   "cell_type": "code",
   "execution_count": null,
   "id": "86e1250d",
   "metadata": {},
   "outputs": [],
   "source": [
    "df_work.shape"
   ]
  },
  {
   "cell_type": "code",
   "execution_count": null,
   "id": "321ac728",
   "metadata": {},
   "outputs": [],
   "source": [
    "df_work.drop_duplicates(inplace=True)\n",
    "df_work.shape"
   ]
  },
  {
   "cell_type": "code",
   "execution_count": null,
   "id": "4b570678",
   "metadata": {},
   "outputs": [],
   "source": [
    "df_original = df_work.copy()\n",
    "df_work_copy = df_work.copy()"
   ]
  },
  {
   "cell_type": "markdown",
   "id": "d7e34b01",
   "metadata": {},
   "source": [
    "## Tratamiento de variables"
   ]
  },
  {
   "cell_type": "markdown",
   "id": "f721ec7b",
   "metadata": {},
   "source": [
    "Se \"encodean\" las variables, transformando class en 1 y 0 para tener una salida a comparar, las demas variables se extienden de 0 al numero de variables que se tienen.\n",
    "\n",
    "Se trataron de modificar las variblas usando enteros pero los modelos eran muy precisos, lo que me supuso que no era la mejor solucion"
   ]
  },
  {
   "cell_type": "code",
   "execution_count": null,
   "id": "e43469da",
   "metadata": {},
   "outputs": [],
   "source": [
    "for column in df_original:\n",
    "    if column == 'class':\n",
    "        df_work_copy[column] = df_work_copy[column].apply(\n",
    "            lambda x: 1 if x == 'Poisonous' else 0\n",
    "        )\n",
    "        continue\n",
    "\n",
    "    uniques = df_work_copy[column].unique().tolist()\n",
    "    for unique in uniques:\n",
    "        df_work_copy[f'{column}_{unique}'] = df_work_copy[column].apply(\n",
    "            lambda x: 1 if x == unique else 0\n",
    "        )\n",
    "\n",
    "    df_work_copy.drop(column, axis=1, inplace=True)\n",
    "\n",
    "df_work_copy.head()"
   ]
  },
  {
   "cell_type": "markdown",
   "id": "18277ec8",
   "metadata": {},
   "source": [
    "## Entrenamiento"
   ]
  },
  {
   "cell_type": "markdown",
   "id": "3d257ca4",
   "metadata": {},
   "source": [
    "Se separan las variables para entrenar los modelos de prueba"
   ]
  },
  {
   "cell_type": "code",
   "execution_count": null,
   "id": "d9907762",
   "metadata": {},
   "outputs": [],
   "source": [
    "df = df_work_copy.copy()\n",
    "X = df.iloc[:, 1:]\n",
    "y = df['class']\n",
    "X"
   ]
  },
  {
   "cell_type": "markdown",
   "id": "7be43442",
   "metadata": {},
   "source": [
    "Se importan las librerias de los modelos a usar"
   ]
  },
  {
   "cell_type": "code",
   "execution_count": null,
   "id": "30ee295e",
   "metadata": {},
   "outputs": [],
   "source": [
    "from sklearn.linear_model import LogisticRegression\n",
    "from sklearn.metrics import confusion_matrix, classification_report\n",
    "from sklearn.model_selection import train_test_split, cross_val_score\n",
    "from sklearn.naive_bayes import GaussianNB\n",
    "from sklearn.neighbors import KNeighborsClassifier\n",
    "from sklearn.svm import SVC\n",
    "from sklearn.tree import DecisionTreeClassifier"
   ]
  },
  {
   "cell_type": "markdown",
   "id": "a13fb77d",
   "metadata": {},
   "source": [
    "Partiendo los datos para entrenar y para probar"
   ]
  },
  {
   "cell_type": "code",
   "execution_count": null,
   "id": "7b0d2fd0",
   "metadata": {},
   "outputs": [],
   "source": [
    "X_train, X_test, y_train, y_test = train_test_split(X, y, test_size=0.2)\n",
    "X.shape"
   ]
  },
  {
   "cell_type": "markdown",
   "id": "ce5b6762",
   "metadata": {},
   "source": [
    "Creando los ML (instanciando las clases)"
   ]
  },
  {
   "cell_type": "code",
   "execution_count": null,
   "id": "d98fa9c9",
   "metadata": {},
   "outputs": [],
   "source": [
    "lr = LogisticRegression()\n",
    "multi_nb = GaussianNB()\n",
    "knn = KNeighborsClassifier()\n",
    "svc = SVC()\n",
    "tree = DecisionTreeClassifier(\n",
    "    criterion='log_loss',\n",
    "    max_features=\"sqrt\"\n",
    ")"
   ]
  },
  {
   "cell_type": "markdown",
   "id": "ef2c9f6f",
   "metadata": {},
   "source": [
    "### Trabajando con la regresion logistica"
   ]
  },
  {
   "cell_type": "code",
   "execution_count": null,
   "id": "302720d3",
   "metadata": {},
   "outputs": [],
   "source": [
    "lr.fit(X_train, y_train)\n",
    "y_pred = lr.predict(X_test)\n",
    "result = lr.score(X_test, y_test)"
   ]
  },
  {
   "cell_type": "markdown",
   "id": "683266ef",
   "metadata": {},
   "source": [
    "### Validations"
   ]
  },
  {
   "cell_type": "code",
   "execution_count": null,
   "id": "301b9c54",
   "metadata": {},
   "outputs": [],
   "source": [
    "\"Accuracy: %.2f%%\" % (result*100.0)"
   ]
  },
  {
   "cell_type": "code",
   "execution_count": null,
   "id": "f1a52fe1",
   "metadata": {},
   "outputs": [],
   "source": [
    "cm = confusion_matrix(y_test, y_pred)\n",
    "cm"
   ]
  },
  {
   "cell_type": "code",
   "execution_count": null,
   "id": "f765dfc3",
   "metadata": {},
   "outputs": [],
   "source": [
    "print(classification_report(y_test, y_pred))"
   ]
  },
  {
   "cell_type": "code",
   "execution_count": null,
   "id": "6daab854",
   "metadata": {},
   "outputs": [],
   "source": [
    "scores = cross_val_score(lr, X_train, y_train, cv=10)\n",
    "scores"
   ]
  },
  {
   "cell_type": "code",
   "execution_count": null,
   "id": "ca3bb5ec",
   "metadata": {},
   "outputs": [],
   "source": [
    "scores.mean()"
   ]
  },
  {
   "cell_type": "markdown",
   "id": "037c7712",
   "metadata": {},
   "source": [
    "### Trabajando con Naive Bayes"
   ]
  },
  {
   "cell_type": "code",
   "execution_count": null,
   "id": "0596a581",
   "metadata": {},
   "outputs": [],
   "source": [
    "multi_nb.fit(X_train, y_train)\n",
    "y_pred = multi_nb.predict(X_test)\n",
    "result = multi_nb.score(X_test, y_test)"
   ]
  },
  {
   "cell_type": "markdown",
   "id": "8ed99ea7",
   "metadata": {},
   "source": [
    "### Validations"
   ]
  },
  {
   "cell_type": "code",
   "execution_count": null,
   "id": "3c425969",
   "metadata": {},
   "outputs": [],
   "source": [
    "\"Accuracy: %.2f%%\" % (result*100.0)"
   ]
  },
  {
   "cell_type": "code",
   "execution_count": null,
   "id": "08791da0",
   "metadata": {},
   "outputs": [],
   "source": [
    "cm = confusion_matrix(y_test, y_pred)\n",
    "cm"
   ]
  },
  {
   "cell_type": "code",
   "execution_count": null,
   "id": "16e52608",
   "metadata": {},
   "outputs": [],
   "source": [
    "print(classification_report(y_test, y_pred))"
   ]
  },
  {
   "cell_type": "code",
   "execution_count": null,
   "id": "133d31f0",
   "metadata": {},
   "outputs": [],
   "source": [
    "scores = cross_val_score(multi_nb, X_train, y_train, cv=10)\n",
    "scores"
   ]
  },
  {
   "cell_type": "code",
   "execution_count": null,
   "id": "978364e3",
   "metadata": {},
   "outputs": [],
   "source": [
    "scores.mean()"
   ]
  },
  {
   "cell_type": "markdown",
   "id": "55bc4ad5",
   "metadata": {},
   "source": [
    "### Trabajando con KNN"
   ]
  },
  {
   "cell_type": "code",
   "execution_count": null,
   "id": "e8821cc1",
   "metadata": {},
   "outputs": [],
   "source": [
    "knn.fit(X_train, y_train)\n",
    "y_pred = knn.predict(X_test)\n",
    "result = knn.score(X_test, y_test)"
   ]
  },
  {
   "cell_type": "markdown",
   "id": "b5e9d3f1",
   "metadata": {},
   "source": [
    "### Validations"
   ]
  },
  {
   "cell_type": "code",
   "execution_count": null,
   "id": "ada49d69",
   "metadata": {},
   "outputs": [],
   "source": [
    "\"Accuracy: %.2f%%\" % (result*100.0)"
   ]
  },
  {
   "cell_type": "code",
   "execution_count": null,
   "id": "62bedc20",
   "metadata": {},
   "outputs": [],
   "source": [
    "cm = confusion_matrix(y_test, y_pred)\n",
    "cm"
   ]
  },
  {
   "cell_type": "code",
   "execution_count": null,
   "id": "afac61c2",
   "metadata": {},
   "outputs": [],
   "source": [
    "print(classification_report(y_test, y_pred))"
   ]
  },
  {
   "cell_type": "code",
   "execution_count": null,
   "id": "47d194a9",
   "metadata": {},
   "outputs": [],
   "source": [
    "scores = cross_val_score(knn, X_train, y_train, cv=10)\n",
    "scores"
   ]
  },
  {
   "cell_type": "code",
   "execution_count": null,
   "id": "383d8274",
   "metadata": {},
   "outputs": [],
   "source": [
    "scores.mean()"
   ]
  },
  {
   "cell_type": "markdown",
   "id": "ebbac777",
   "metadata": {},
   "source": [
    "### Trabajando con Support Vector Machine"
   ]
  },
  {
   "cell_type": "code",
   "execution_count": null,
   "id": "6fcd87ce",
   "metadata": {},
   "outputs": [],
   "source": [
    "svc.fit(X_train, y_train)\n",
    "y_pred = svc.predict(X_test)\n",
    "result = svc.score(X_test, y_test)"
   ]
  },
  {
   "cell_type": "markdown",
   "id": "0a67e0af",
   "metadata": {},
   "source": [
    "### Validations"
   ]
  },
  {
   "cell_type": "code",
   "execution_count": null,
   "id": "e43c8364",
   "metadata": {},
   "outputs": [],
   "source": [
    "\"Accuracy: %.2f%%\" % (result*100.0)"
   ]
  },
  {
   "cell_type": "code",
   "execution_count": null,
   "id": "a6d6f7b5",
   "metadata": {},
   "outputs": [],
   "source": [
    "cm = confusion_matrix(y_test, y_pred)\n",
    "cm"
   ]
  },
  {
   "cell_type": "code",
   "execution_count": null,
   "id": "10943d89",
   "metadata": {},
   "outputs": [],
   "source": [
    "print(classification_report(y_test, y_pred))"
   ]
  },
  {
   "cell_type": "code",
   "execution_count": null,
   "id": "014a18b4",
   "metadata": {},
   "outputs": [],
   "source": [
    "scores = cross_val_score(svc, X_train, y_train, cv=10)\n",
    "scores"
   ]
  },
  {
   "cell_type": "code",
   "execution_count": null,
   "id": "2b5c151b",
   "metadata": {},
   "outputs": [],
   "source": [
    "scores.mean()"
   ]
  },
  {
   "cell_type": "markdown",
   "id": "00629317",
   "metadata": {},
   "source": [
    "### Trabajando con arbol de decision"
   ]
  },
  {
   "cell_type": "code",
   "execution_count": null,
   "id": "65d9cb6b",
   "metadata": {},
   "outputs": [],
   "source": [
    "tree.fit(X_train, y_train)\n",
    "y_pred = tree.predict(X_test)\n",
    "result = tree.score(X_test, y_test)"
   ]
  },
  {
   "cell_type": "markdown",
   "id": "6bd71c03",
   "metadata": {},
   "source": [
    "### Validations"
   ]
  },
  {
   "cell_type": "code",
   "execution_count": null,
   "id": "e4da35fc",
   "metadata": {},
   "outputs": [],
   "source": [
    "\"Accuracy: %.2f%%\" % (result*100.0)"
   ]
  },
  {
   "cell_type": "code",
   "execution_count": null,
   "id": "0809db2d",
   "metadata": {},
   "outputs": [],
   "source": [
    "cm = confusion_matrix(y_test, y_pred)\n",
    "cm"
   ]
  },
  {
   "cell_type": "code",
   "execution_count": null,
   "id": "adbe411c",
   "metadata": {},
   "outputs": [],
   "source": [
    "print(classification_report(y_test, y_pred))"
   ]
  },
  {
   "cell_type": "code",
   "execution_count": null,
   "id": "f46922ba",
   "metadata": {},
   "outputs": [],
   "source": [
    "scores = cross_val_score(tree, X_train, y_train, cv=10)\n",
    "scores"
   ]
  },
  {
   "cell_type": "code",
   "execution_count": null,
   "id": "f654e83f",
   "metadata": {},
   "outputs": [],
   "source": [
    "scores.mean()"
   ]
  },
  {
   "cell_type": "code",
   "execution_count": null,
   "id": "13436244",
   "metadata": {},
   "outputs": [],
   "source": [
    "# profile = ProfileReport(df, title=\"Pandas Profiling Report\")\n",
    "# profile.to_file(\"../reports/second_chance.html\")"
   ]
  }
 ],
 "metadata": {
  "kernelspec": {
   "display_name": "Python 3.9.13 ('mlops-project-DEYJEkcs')",
   "language": "python",
   "name": "python3"
  },
  "language_info": {
   "codemirror_mode": {
    "name": "ipython",
    "version": 3
   },
   "file_extension": ".py",
   "mimetype": "text/x-python",
   "name": "python",
   "nbconvert_exporter": "python",
   "pygments_lexer": "ipython3",
   "version": "3.9.13"
  },
  "vscode": {
   "interpreter": {
    "hash": "e9408dc7980e97ed4126a90298b09f05f77baffbcaf6e8066508b0999e6a4bd2"
   }
  }
 },
 "nbformat": 4,
 "nbformat_minor": 5
}
